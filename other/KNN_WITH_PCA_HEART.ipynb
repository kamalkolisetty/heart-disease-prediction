{
 "cells": [
  {
   "cell_type": "markdown",
   "metadata": {},
   "source": [
    "IMPORTING THE LIBRARIES"
   ]
  },
  {
   "cell_type": "code",
   "execution_count": 1,
   "metadata": {},
   "outputs": [],
   "source": [
    "import numpy as np\n",
    "import pandas as pd\n",
    "import matplotlib.pyplot as plt"
   ]
  },
  {
   "cell_type": "markdown",
   "metadata": {},
   "source": [
    "IMPORTING THE DATASET"
   ]
  },
  {
   "cell_type": "code",
   "execution_count": 2,
   "metadata": {},
   "outputs": [
    {
     "name": "stdout",
     "output_type": "stream",
     "text": [
      "     age  sex  cp  trestbps  chol  fbs  restecg  thalach  exang  oldpeak  \\\n",
      "0     63    1   3       145   233    1        0      150      0      2.3   \n",
      "1     37    1   2       130   250    0        1      187      0      3.5   \n",
      "2     41    0   1       130   204    0        0      172      0      1.4   \n",
      "3     56    1   1       120   236    0        1      178      0      0.8   \n",
      "4     57    0   0       120   354    0        1      163      1      0.6   \n",
      "..   ...  ...  ..       ...   ...  ...      ...      ...    ...      ...   \n",
      "298   57    0   0       140   241    0        1      123      1      0.2   \n",
      "299   45    1   3       110   264    0        1      132      0      1.2   \n",
      "300   68    1   0       144   193    1        1      141      0      3.4   \n",
      "301   57    1   0       130   131    0        1      115      1      1.2   \n",
      "302   57    0   1       130   236    0        0      174      0      0.0   \n",
      "\n",
      "     slope  ca  thal  target  \n",
      "0        0   0     1       1  \n",
      "1        0   0     2       1  \n",
      "2        2   0     2       1  \n",
      "3        2   0     2       1  \n",
      "4        2   0     2       1  \n",
      "..     ...  ..   ...     ...  \n",
      "298      1   0     3       0  \n",
      "299      1   0     3       0  \n",
      "300      1   2     3       0  \n",
      "301      1   1     3       0  \n",
      "302      1   1     2       0  \n",
      "\n",
      "[303 rows x 14 columns]\n"
     ]
    }
   ],
   "source": [
    "dataset = pd.read_csv(\"heart.csv\")\n",
    "print(dataset)"
   ]
  },
  {
   "cell_type": "markdown",
   "metadata": {},
   "source": [
    "EXTRACTING X AND Y"
   ]
  },
  {
   "cell_type": "code",
   "execution_count": 3,
   "metadata": {},
   "outputs": [
    {
     "name": "stdout",
     "output_type": "stream",
     "text": [
      "[[63.  1.  3. ...  0.  0.  1.]\n",
      " [37.  1.  2. ...  0.  0.  2.]\n",
      " [41.  0.  1. ...  2.  0.  2.]\n",
      " ...\n",
      " [68.  1.  0. ...  1.  2.  3.]\n",
      " [57.  1.  0. ...  1.  1.  3.]\n",
      " [57.  0.  1. ...  1.  1.  2.]]\n",
      "[1 1 1 1 1 1 1 1 1 1 1 1 1 1 1 1 1 1 1 1 1 1 1 1 1 1 1 1 1 1 1 1 1 1 1 1 1\n",
      " 1 1 1 1 1 1 1 1 1 1 1 1 1 1 1 1 1 1 1 1 1 1 1 1 1 1 1 1 1 1 1 1 1 1 1 1 1\n",
      " 1 1 1 1 1 1 1 1 1 1 1 1 1 1 1 1 1 1 1 1 1 1 1 1 1 1 1 1 1 1 1 1 1 1 1 1 1\n",
      " 1 1 1 1 1 1 1 1 1 1 1 1 1 1 1 1 1 1 1 1 1 1 1 1 1 1 1 1 1 1 1 1 1 1 1 1 1\n",
      " 1 1 1 1 1 1 1 1 1 1 1 1 1 1 1 1 1 0 0 0 0 0 0 0 0 0 0 0 0 0 0 0 0 0 0 0 0\n",
      " 0 0 0 0 0 0 0 0 0 0 0 0 0 0 0 0 0 0 0 0 0 0 0 0 0 0 0 0 0 0 0 0 0 0 0 0 0\n",
      " 0 0 0 0 0 0 0 0 0 0 0 0 0 0 0 0 0 0 0 0 0 0 0 0 0 0 0 0 0 0 0 0 0 0 0 0 0\n",
      " 0 0 0 0 0 0 0 0 0 0 0 0 0 0 0 0 0 0 0 0 0 0 0 0 0 0 0 0 0 0 0 0 0 0 0 0 0\n",
      " 0 0 0 0 0 0 0]\n"
     ]
    }
   ],
   "source": [
    "X = dataset.iloc[:, :-1].values\n",
    "y = dataset.iloc[:, -1].values\n",
    "print(X)\n",
    "print(y)"
   ]
  },
  {
   "cell_type": "markdown",
   "metadata": {},
   "source": [
    "STANDARDIZING THE DATSET"
   ]
  },
  {
   "cell_type": "code",
   "execution_count": 4,
   "metadata": {},
   "outputs": [],
   "source": [
    "from sklearn.preprocessing import StandardScaler\n",
    "sc=StandardScaler()\n",
    "X=sc.fit_transform(X)"
   ]
  },
  {
   "cell_type": "markdown",
   "metadata": {},
   "source": [
    "SPLITTING THE DATSET INTO TRAINING DATA AND TESTING DATA"
   ]
  },
  {
   "cell_type": "code",
   "execution_count": 5,
   "metadata": {},
   "outputs": [],
   "source": [
    "from sklearn.model_selection import train_test_split\n",
    "X_train, X_test, y_train, y_test = train_test_split(X, y, train_size = 0.8, random_state = 42)"
   ]
  },
  {
   "cell_type": "markdown",
   "metadata": {},
   "source": [
    "APPLYING THE PCA"
   ]
  },
  {
   "cell_type": "code",
   "execution_count": 6,
   "metadata": {},
   "outputs": [],
   "source": [
    "from sklearn.decomposition import PCA\n",
    "pca = PCA(n_components=2)\n",
    "X_train=pca.fit_transform(X_train)\n",
    "X_test=pca.transform(X_test)\n",
    "explained_variance = pca.explained_variance_ratio_"
   ]
  },
  {
   "cell_type": "code",
   "execution_count": 7,
   "metadata": {},
   "outputs": [
    {
     "name": "stdout",
     "output_type": "stream",
     "text": [
      "[[0.20556073]\n",
      " [0.12694064]]\n"
     ]
    }
   ],
   "source": [
    "print(explained_variance.reshape(len(explained_variance),1))"
   ]
  },
  {
   "cell_type": "code",
   "execution_count": 8,
   "metadata": {},
   "outputs": [
    {
     "name": "stdout",
     "output_type": "stream",
     "text": [
      "[[-1.89329766 -0.66846763]\n",
      " [ 1.72864546 -0.04293299]\n",
      " [ 0.18065593 -0.55449282]\n",
      " [-0.41371972  1.09574315]\n",
      " [ 1.26671161 -0.71362263]\n",
      " [-0.77208684  1.58815406]\n",
      " [-0.20826269  1.85061786]\n",
      " [-0.12463217  1.64268742]\n",
      " [-1.01088411  1.34875815]\n",
      " [-2.37881724 -0.89129695]\n",
      " [-1.91017698 -0.99319423]\n",
      " [ 1.08394773  0.64973952]\n",
      " [-1.84547576 -0.67578032]\n",
      " [ 1.34943673  0.67683308]\n",
      " [-1.25965698 -0.12729618]\n",
      " [-0.85952603  0.76576645]\n",
      " [ 0.24282545  0.57614519]\n",
      " [ 0.91911043  0.36492564]\n",
      " [ 1.00362178 -0.78880972]\n",
      " [-1.67352341 -1.1182693 ]\n",
      " [ 2.00472272 -0.73442842]\n",
      " [-0.4053779  -0.29254835]\n",
      " [ 0.04892073 -1.78870822]\n",
      " [-1.46036353 -2.13098978]\n",
      " [ 2.0883956   1.36093829]\n",
      " [ 3.63479146 -0.98417731]\n",
      " [-0.31239823  1.86482355]\n",
      " [-0.18967294  0.41418047]\n",
      " [ 0.4675128  -1.03919649]\n",
      " [ 0.50898086  0.95742776]\n",
      " [-3.27418129 -1.08756935]\n",
      " [-3.14052982 -1.3616148 ]\n",
      " [-1.07525118 -0.05296289]\n",
      " [-0.66328179 -0.39933129]\n",
      " [-1.67352341 -1.1182693 ]\n",
      " [-0.02143972  0.0344516 ]\n",
      " [ 0.09153378 -0.73826017]\n",
      " [-2.13345724 -1.2293318 ]\n",
      " [ 1.72651489 -0.25555522]\n",
      " [-0.64041985  0.20060052]\n",
      " [-1.89497459  1.63406487]\n",
      " [-1.29467406 -1.61714978]\n",
      " [ 2.39205405 -0.51040261]\n",
      " [-0.52751965 -1.40080808]\n",
      " [-1.41378715  0.43013052]\n",
      " [-1.56648174  0.1536319 ]\n",
      " [-1.27082812  0.39076324]\n",
      " [-0.08151077 -1.20981013]\n",
      " [ 1.72227909 -2.4711539 ]\n",
      " [-1.8106118  -0.07023907]\n",
      " [-2.00668284 -0.99169169]\n",
      " [ 2.6653614  -0.82215506]\n",
      " [-1.0936867  -0.63275955]\n",
      " [-1.06151262 -0.46660799]\n",
      " [ 0.50760609  2.64200793]\n",
      " [ 0.36839264 -0.61188878]\n",
      " [-2.38529346 -0.99915105]\n",
      " [-0.06777849  0.15334163]\n",
      " [ 2.26236963 -0.13663083]\n",
      " [ 1.69343992 -1.35490133]\n",
      " [ 1.7912058  -1.2398604 ]\n",
      " [ 2.41538623 -1.05850603]\n",
      " [ 0.50073197  1.01763369]\n",
      " [ 2.88844103  1.23915793]\n",
      " [ 2.74220063 -1.34676283]\n",
      " [-1.00941696 -0.71198462]\n",
      " [ 1.33702349 -0.96573223]\n",
      " [ 1.31995363 -0.15814385]\n",
      " [-0.00817202 -0.19677056]\n",
      " [ 1.07815208  1.63276411]\n",
      " [-0.79448731  2.05225697]\n",
      " [-0.42946415 -1.47358655]\n",
      " [ 0.26975579 -0.06922267]\n",
      " [-1.65256701  1.320348  ]\n",
      " [-0.42237526  1.71555499]\n",
      " [ 0.07624331  0.21634013]\n",
      " [-0.41919541 -0.69480122]\n",
      " [ 0.93790756 -0.63000591]\n",
      " [ 1.42645536 -1.13530503]\n",
      " [ 3.46177928  1.09406968]\n",
      " [ 2.11928902 -0.40260799]\n",
      " [-0.97595643  2.01803717]\n",
      " [-1.88286626  0.05478574]\n",
      " [-2.95163266 -0.46611261]\n",
      " [-1.76638409  1.64053107]\n",
      " [ 2.14983205  1.27887336]\n",
      " [ 1.60468142  1.26676141]\n",
      " [ 1.9365253   0.87262102]\n",
      " [ 3.0287753  -1.35670971]\n",
      " [-1.19764099  2.27262679]\n",
      " [-1.96397538 -0.30165636]\n",
      " [ 0.12680144  0.19199691]\n",
      " [-0.63517349  1.03326877]\n",
      " [-0.79039377  1.59095134]\n",
      " [ 0.06138017  0.04112246]\n",
      " [-2.60354101 -1.85408403]\n",
      " [ 0.66525631 -1.58440602]\n",
      " [-1.97615659 -1.47858093]\n",
      " [ 0.31050209 -0.01430829]\n",
      " [ 4.13557955 -1.89129944]\n",
      " [-2.12950188 -0.86928512]\n",
      " [ 2.0504511   2.0322764 ]\n",
      " [ 0.76853728  3.79114243]\n",
      " [ 2.24465166  0.03790092]\n",
      " [-0.97834818 -0.33408304]\n",
      " [-1.56924198 -0.39717291]\n",
      " [ 0.28346828 -0.18195294]\n",
      " [-0.23806942  4.22950693]\n",
      " [-2.24511602 -0.40975997]\n",
      " [ 3.58209593  0.55815758]\n",
      " [-1.24079538  0.59508811]\n",
      " [ 1.74706526  0.03845297]\n",
      " [ 0.38691696  0.65179009]\n",
      " [ 1.09555494 -0.79961775]\n",
      " [ 1.6412871   1.16470788]\n",
      " [ 3.34686958 -1.25614896]\n",
      " [-1.25330628 -0.26256356]\n",
      " [ 0.29964431  0.24529573]\n",
      " [-0.11203873  2.05868254]\n",
      " [-0.64647335  0.90694035]\n",
      " [-0.69984339  0.83220425]\n",
      " [ 0.66345015 -0.23366483]\n",
      " [-0.94047604 -1.02526535]\n",
      " [ 1.51537962  1.21147678]\n",
      " [ 0.48929694  1.79389008]\n",
      " [ 0.5475999   0.16347003]\n",
      " [-0.27810716 -1.30961216]\n",
      " [-1.75603039  0.4005783 ]\n",
      " [-1.14377845 -1.0770556 ]\n",
      " [-0.96526309 -0.93917545]\n",
      " [-0.12543825 -1.87087189]\n",
      " [-1.10362093 -0.10435607]\n",
      " [-1.85259582  2.14119261]\n",
      " [-1.02045492 -0.61578957]\n",
      " [ 0.48952749  1.26250822]\n",
      " [ 0.87709902 -0.55133056]\n",
      " [ 3.50419057 -0.58549643]\n",
      " [ 1.81812255  0.87171591]\n",
      " [-1.67060121  0.76823237]\n",
      " [-0.57523551 -1.26258972]\n",
      " [-1.73137291 -1.31128302]\n",
      " [-0.50846994 -0.57120764]\n",
      " [-1.24262987 -1.42141543]\n",
      " [ 2.32808165 -2.05254029]\n",
      " [-0.11767447  0.89909244]\n",
      " [-1.80898737  0.06828409]\n",
      " [-2.26727175 -0.53225485]\n",
      " [ 0.37901774 -1.35971006]\n",
      " [-2.61400104 -1.91701498]\n",
      " [ 1.06916623  0.44607967]\n",
      " [-0.02189214 -2.18242389]\n",
      " [ 0.94021095 -1.49186118]\n",
      " [-2.50285848 -0.12221306]\n",
      " [-1.59261281  0.44051912]\n",
      " [-1.53109759  0.76262538]\n",
      " [ 0.4126774   0.58810673]\n",
      " [-0.95379133  0.585969  ]\n",
      " [-0.31285238 -0.3165969 ]\n",
      " [-0.42976744 -0.95444763]\n",
      " [-1.39833858  1.12058054]\n",
      " [-2.32744094  0.52943557]\n",
      " [ 3.11969553  0.42792211]\n",
      " [-2.31808716 -0.38515014]\n",
      " [-0.62955683  1.86776473]\n",
      " [-2.08601072  0.99107029]\n",
      " [-0.41421955  2.85999888]\n",
      " [ 1.16073436  0.78357547]\n",
      " [-0.1998811   2.41635485]\n",
      " [ 1.030314    0.67767865]\n",
      " [ 1.2210668   0.07016327]\n",
      " [ 0.49882822  2.3470833 ]\n",
      " [-1.70931046  0.24022244]\n",
      " [ 1.5445545   1.22527703]\n",
      " [-0.14467943 -2.2916562 ]\n",
      " [-0.48057346  3.43651245]\n",
      " [-0.22786421 -0.7140289 ]\n",
      " [ 1.14484217 -2.35710014]\n",
      " [ 2.053454    1.77955517]\n",
      " [-0.35016813  0.49569394]\n",
      " [-1.29091866  3.05681496]\n",
      " [-1.69563092  0.2734909 ]\n",
      " [-1.36743751 -1.09059305]\n",
      " [ 2.48724633  1.10523576]\n",
      " [ 0.83358515 -3.0658005 ]\n",
      " [-1.12488006  0.05760746]\n",
      " [ 2.56481062 -0.78548046]\n",
      " [-1.10044215  1.52306498]\n",
      " [-0.22966687  0.8782462 ]\n",
      " [ 2.74135904  1.07091116]\n",
      " [-0.17231025  1.4691611 ]\n",
      " [ 1.15432198 -0.14324957]\n",
      " [ 2.7913006   2.64916252]\n",
      " [ 3.03554924 -0.77411557]\n",
      " [-1.50182369 -0.56092875]\n",
      " [ 0.49119411  1.1594589 ]\n",
      " [-2.23915207 -1.21944556]\n",
      " [-0.47010428 -1.34788429]\n",
      " [-1.27428661  0.96215334]\n",
      " [-2.69312754 -1.09913167]\n",
      " [ 0.21198938 -1.27150462]\n",
      " [ 0.13095872 -0.51114273]\n",
      " [-0.05160972 -1.41509176]\n",
      " [ 1.14075332 -0.34660033]\n",
      " [ 1.37687001 -1.36300104]\n",
      " [ 0.87500711  1.16420683]\n",
      " [ 0.63635579 -0.43864009]\n",
      " [-1.00763458 -0.13212066]\n",
      " [ 3.13377026 -0.76967668]\n",
      " [ 1.77508635  1.24963743]\n",
      " [-2.13262893  0.47741639]\n",
      " [-0.24562051 -0.44598529]\n",
      " [ 2.98566449 -0.59831007]\n",
      " [-1.66013056  1.89430624]\n",
      " [-1.55146654  1.1985214 ]\n",
      " [ 2.76141555 -1.06512771]\n",
      " [-1.4435956  -2.10795781]\n",
      " [ 1.99593915 -2.33056317]\n",
      " [ 2.72663382 -1.0144636 ]\n",
      " [ 2.58994986 -0.7735226 ]\n",
      " [-3.13644113 -1.25820856]\n",
      " [-1.83817454  1.62196103]\n",
      " [ 0.4517783  -0.79813765]\n",
      " [ 2.20596257  1.99536366]\n",
      " [-1.49945721 -1.13877174]\n",
      " [-0.44115545 -0.74563108]\n",
      " [ 1.9776468  -0.80207452]\n",
      " [ 2.88919664 -1.05304716]\n",
      " [ 1.55533937 -1.29677467]\n",
      " [-2.13835924 -1.29362331]\n",
      " [-1.64415209  1.15694303]\n",
      " [ 0.69773253 -0.2440005 ]\n",
      " [-0.98931531  1.13267723]\n",
      " [-1.50782013 -1.46104745]\n",
      " [ 1.54481188  0.08903861]\n",
      " [-1.11438554  0.63278981]\n",
      " [-0.8876799   1.10279144]\n",
      " [ 0.1567429  -0.77019486]\n",
      " [-0.47632066 -0.68870795]\n",
      " [-0.58536416 -1.97892899]\n",
      " [ 0.44321922  2.35556665]\n",
      " [-0.461369   -1.02767198]\n",
      " [-1.22482771  0.9700205 ]]\n"
     ]
    }
   ],
   "source": [
    "print(X_train)"
   ]
  },
  {
   "cell_type": "markdown",
   "metadata": {},
   "source": [
    "TRAINING THE KNN MODEL ON DATASET"
   ]
  },
  {
   "cell_type": "code",
   "execution_count": 9,
   "metadata": {},
   "outputs": [
    {
     "data": {
      "text/plain": [
       "KNeighborsClassifier(algorithm='auto', leaf_size=30, metric='minkowski',\n",
       "                     metric_params=None, n_jobs=None, n_neighbors=8, p=2,\n",
       "                     weights='uniform')"
      ]
     },
     "execution_count": 9,
     "metadata": {},
     "output_type": "execute_result"
    }
   ],
   "source": [
    "from sklearn.neighbors import KNeighborsClassifier\n",
    "classifier = KNeighborsClassifier(n_neighbors = 8, metric = 'minkowski', p = 2)\n",
    "classifier.fit(X_train, y_train)"
   ]
  },
  {
   "cell_type": "markdown",
   "metadata": {},
   "source": [
    "PREDICTING THE TEST RESULTS"
   ]
  },
  {
   "cell_type": "code",
   "execution_count": 10,
   "metadata": {},
   "outputs": [
    {
     "name": "stdout",
     "output_type": "stream",
     "text": [
      "[0 1 1 0 1 1 1 0 0 1 1 0 1 0 1 1 1 0 0 0 1 0 0 1 1 1 1 1 0 1 0 0 0 0 0 0 1\n",
      " 1 1 1 1 1 1 1 1 0 1 1 0 0 0 0 1 1 1 0 0 1 0 0 0]\n"
     ]
    }
   ],
   "source": [
    "y_pred = classifier.predict(X_test)\n",
    "print(y_pred)\n"
   ]
  },
  {
   "cell_type": "markdown",
   "metadata": {},
   "source": [
    "MAKING THE CONFUSION MATRIX"
   ]
  },
  {
   "cell_type": "code",
   "execution_count": 11,
   "metadata": {},
   "outputs": [
    {
     "name": "stdout",
     "output_type": "stream",
     "text": [
      "[[24  5]\n",
      " [ 4 28]]\n"
     ]
    },
    {
     "data": {
      "text/plain": [
       "0.8524590163934426"
      ]
     },
     "execution_count": 11,
     "metadata": {},
     "output_type": "execute_result"
    }
   ],
   "source": [
    "from sklearn.metrics import confusion_matrix, accuracy_score\n",
    "cm = confusion_matrix(y_test, y_pred)\n",
    "print(cm)\n",
    "accuracy_score(y_test, y_pred)"
   ]
  },
  {
   "cell_type": "markdown",
   "metadata": {},
   "source": [
    "VISUALIZING THE TRAINING RESULTS"
   ]
  },
  {
   "cell_type": "code",
   "execution_count": 12,
   "metadata": {},
   "outputs": [
    {
     "data": {
      "image/png": "[encoded data removed]",
      "text/plain": [
       "<Figure size 432x288 with 2 Axes>"
      ]
     },
     "metadata": {
      "needs_background": "light"
     },
     "output_type": "display_data"
    }
   ],
   "source": [
    "import matplotlib.pyplot as plt  # doctest: +SKIP\n",
    "from sklearn.datasets import make_classification\n",
    "from sklearn.metrics import plot_confusion_matrix\n",
    "from sklearn.model_selection import train_test_split\n",
    "from sklearn.svm import SVC\n",
    "X, y = make_classification(random_state=0)\n",
    "X_train, X_test, y_train, y_test = train_test_split(\n",
    "X, y, random_state=0)\n",
    "clf = SVC(random_state=0)\n",
    "clf.fit(X_train, y_train)\n",
    "SVC(random_state=0)\n",
    "plot_confusion_matrix(clf, X_test, y_test)  # doctest: +SKIP\n",
    "plt.show()  # doctest: +SKIP"
   ]
  },
  {
   "cell_type": "markdown",
   "metadata": {},
   "source": [
    "HISTOGRAMS"
   ]
  },
  {
   "cell_type": "code",
   "execution_count": 14,
   "metadata": {},
   "outputs": [
    {
     "data": {
      "image/png": "[encoded data removed]",
      "text/plain": [
       "<Figure size 864x1008 with 16 Axes>"
      ]
     },
     "metadata": {
      "needs_background": "light"
     },
     "output_type": "display_data"
    }
   ],
   "source": [
    "dataset.hist(figsize=(12,14));\n",
    "plt.show()"
   ]
  },
  {
   "cell_type": "code",
   "execution_count": null,
   "metadata": {},
   "outputs": [],
   "source": []
  }
 ],
 "metadata": {
  "kernelspec": {
   "display_name": "Python 3",
   "language": "python",
   "name": "python3"
  },
  "language_info": {
   "codemirror_mode": {
    "name": "ipython",
    "version": 3
   },
   "file_extension": ".py",
   "mimetype": "text/x-python",
   "name": "python",
   "nbconvert_exporter": "python",
   "pygments_lexer": "ipython3",
   "version": "3.8.2"
  }
 },
 "nbformat": 4,
 "nbformat_minor": 4
}
